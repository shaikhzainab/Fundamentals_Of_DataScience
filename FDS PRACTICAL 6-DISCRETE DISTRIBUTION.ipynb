{
 "cells": [
  {
   "cell_type": "code",
   "execution_count": 4,
   "id": "cfc94942",
   "metadata": {},
   "outputs": [],
   "source": [
    "#for inline plots in jupyter\n",
    "%matplotlib inline\n",
    "#import matplotlib\n",
    "import matplotlib.pyplot as plt\n",
    "#for latex equations\n",
    "from IPython.display import Math, Latex\n",
    "# for displaying images\n",
    "from IPython.core.display import Image\n",
    "import numpy as np"
   ]
  },
  {
   "cell_type": "code",
   "execution_count": 5,
   "id": "69e0a8d9",
   "metadata": {},
   "outputs": [],
   "source": [
    "#import seaborn\n",
    "import seaborn as sns\n",
    "#setting for seaborn plotting style\n",
    "sns.set(color_codes=True)\n",
    "#settings for seaborn plot sizes\n",
    "sns.set(rc={'figure.figsize':(5,5)})"
   ]
  },
  {
   "cell_type": "markdown",
   "id": "c81d5279",
   "metadata": {},
   "source": [
    "# UNIFORM DISTRIBUTION"
   ]
  },
  {
   "cell_type": "code",
   "execution_count": 6,
   "id": "c89dd50e",
   "metadata": {},
   "outputs": [
    {
     "data": {
      "text/plain": [
       "<matplotlib.collections.LineCollection at 0x23197532100>"
      ]
     },
     "execution_count": 6,
     "metadata": {},
     "output_type": "execute_result"
    },
    {
     "data": {
      "image/png": "[encoded data removed]",
      "text/plain": [
       "<Figure size 360x360 with 1 Axes>"
      ]
     },
     "metadata": {},
     "output_type": "display_data"
    }
   ],
   "source": [
    "from scipy.stats import randint\n",
    "import matplotlib.pyplot as plt\n",
    "fig,ax = plt.subplots(1,1)\n",
    "\n",
    "#Calculate a few first moments:\n",
    "\n",
    "low, high = 7,31\n",
    "mean, var, skew, kurt = randint.stats(low, high, moments=\"mvsk\")\n",
    "\n",
    "\n",
    "#Display the probability mas function (''pmf''):\n",
    "\n",
    "x= np.arange(randint.ppf(0.01,low, high), randint.ppf(0.99,low, high))\n",
    "ax.plot(x, randint.pmf(x, low, high), 'bo', ms=8, label='randint pmf')\n",
    "ax.vlines(x, 0, randint.pmf(x, low, high), colors='b', lw=5 ,alpha=0.5)"
   ]
  },
  {
   "cell_type": "code",
   "execution_count": 7,
   "id": "3193e0f6",
   "metadata": {},
   "outputs": [
    {
     "data": {
      "text/plain": [
       "array([ 7.,  8.,  9., 10., 11., 12., 13., 14., 15., 16., 17., 18., 19.,\n",
       "       20., 21., 22., 23., 24., 25., 26., 27., 28., 29.])"
      ]
     },
     "execution_count": 7,
     "metadata": {},
     "output_type": "execute_result"
    }
   ],
   "source": [
    "x"
   ]
  },
  {
   "cell_type": "code",
   "execution_count": 8,
   "id": "15eec9e5",
   "metadata": {},
   "outputs": [
    {
     "data": {
      "text/plain": [
       "array([0.04166667, 0.08333333, 0.125     , 0.16666667, 0.20833333,\n",
       "       0.25      , 0.29166667, 0.33333333, 0.375     , 0.41666667,\n",
       "       0.45833333, 0.5       , 0.54166667, 0.58333333, 0.625     ,\n",
       "       0.66666667, 0.70833333, 0.75      , 0.79166667, 0.83333333,\n",
       "       0.875     , 0.91666667, 0.95833333])"
      ]
     },
     "execution_count": 8,
     "metadata": {},
     "output_type": "execute_result"
    }
   ],
   "source": [
    "prob=randint.cdf(x,low,high)\n",
    "prob"
   ]
  },
  {
   "cell_type": "markdown",
   "id": "45a6f20c",
   "metadata": {},
   "source": [
    "# BERNOULLI DISTRIBUTION"
   ]
  },
  {
   "cell_type": "code",
   "execution_count": 9,
   "id": "4960b12a",
   "metadata": {},
   "outputs": [],
   "source": [
    "from scipy.stats import bernoulli\n",
    "data_bern = bernoulli.rvs(size=10000,p=0.6)"
   ]
  },
  {
   "cell_type": "code",
   "execution_count": 10,
   "id": "e4cecc0d",
   "metadata": {},
   "outputs": [
    {
     "name": "stderr",
     "output_type": "stream",
     "text": [
      "C:\\Users\\shaik\\anaconda3\\lib\\site-packages\\seaborn\\distributions.py:2557: FutureWarning: `distplot` is a deprecated function and will be removed in a future version. Please adapt your code to use either `displot` (a figure-level function with similar flexibility) or `histplot` (an axes-level function for histograms).\n",
      "  warnings.warn(msg, FutureWarning)\n"
     ]
    },
    {
     "data": {
      "text/plain": [
       "[Text(0.5, 0, 'Bernoulli Distribution'), Text(0, 0.5, 'Frequency')]"
      ]
     },
     "execution_count": 10,
     "metadata": {},
     "output_type": "execute_result"
    },
    {
     "data": {
      "image/png": "[encoded data removed]",
      "text/plain": [
       "<Figure size 360x360 with 1 Axes>"
      ]
     },
     "metadata": {},
     "output_type": "display_data"
    }
   ],
   "source": [
    "ax=sns.distplot(data_bern,\n",
    "              kde=False,\n",
    "              color=\"skyblue\",\n",
    "              hist_kws={\"linewidth\": 15,'alpha':1})\n",
    "ax.set(xlabel='Bernoulli Distribution', ylabel='Frequency')"
   ]
  },
  {
   "cell_type": "markdown",
   "id": "11b6dd66",
   "metadata": {},
   "source": [
    "# BINOMIAL DISTRIBUTION"
   ]
  },
  {
   "cell_type": "code",
   "execution_count": 12,
   "id": "b07a0b92",
   "metadata": {},
   "outputs": [],
   "source": [
    "from scipy.stats import binom\n",
    "data_binom=binom.rvs(n=10,p=0.8,size=10000)"
   ]
  },
  {
   "cell_type": "code",
   "execution_count": 16,
   "id": "1728be5e",
   "metadata": {},
   "outputs": [
    {
     "data": {
      "text/plain": [
       "[Text(0.5, 0, 'Binomial Distribution'), Text(0, 0.5, 'Frequency')]"
      ]
     },
     "execution_count": 16,
     "metadata": {},
     "output_type": "execute_result"
    },
    {
     "data": {
      "image/png": "[encoded data removed]",
      "text/plain": [
       "<Figure size 360x360 with 1 Axes>"
      ]
     },
     "metadata": {},
     "output_type": "display_data"
    }
   ],
   "source": [
    "ax=sns.distplot(data_binom,\n",
    "              kde=False,\n",
    "              color=\"skyblue\",\n",
    "              hist_kws={\"linewidth\": 15,'alpha':1})\n",
    "ax.set(xlabel='Binomial Distribution', ylabel='Frequency')"
   ]
  },
  {
   "cell_type": "markdown",
   "id": "5560aecc",
   "metadata": {},
   "source": [
    "# POISSON DISTRIBUTION"
   ]
  },
  {
   "cell_type": "code",
   "execution_count": 17,
   "id": "da4d4187",
   "metadata": {},
   "outputs": [],
   "source": [
    "from scipy.stats import poisson\n",
    "data_poisson = poisson.rvs(mu=3, size=10000)"
   ]
  },
  {
   "cell_type": "code",
   "execution_count": 18,
   "id": "7932e4f2",
   "metadata": {},
   "outputs": [
    {
     "data": {
      "text/plain": [
       "[Text(0.5, 0, 'Poisson Distribution'), Text(0, 0.5, 'Frequency')]"
      ]
     },
     "execution_count": 18,
     "metadata": {},
     "output_type": "execute_result"
    },
    {
     "data": {
      "image/png": "[encoded data removed]",
      "text/plain": [
       "<Figure size 360x360 with 1 Axes>"
      ]
     },
     "metadata": {},
     "output_type": "display_data"
    }
   ],
   "source": [
    "ax=sns.distplot(data_poisson,\n",
    "              kde=False,\n",
    "              color=\"skyblue\",\n",
    "              hist_kws={\"linewidth\": 15,'alpha':1})\n",
    "ax.set(xlabel='Poisson Distribution', ylabel='Frequency')"
   ]
  },
  {
   "cell_type": "code",
   "execution_count": null,
   "id": "3cea423c",
   "metadata": {},
   "outputs": [],
   "source": []
  }
 ],
 "metadata": {
  "kernelspec": {
   "display_name": "Python 3",
   "language": "python",
   "name": "python3"
  },
  "language_info": {
   "codemirror_mode": {
    "name": "ipython",
    "version": 3
   },
   "file_extension": ".py",
   "mimetype": "text/x-python",
   "name": "python",
   "nbconvert_exporter": "python",
   "pygments_lexer": "ipython3",
   "version": "3.8.8"
  }
 },
 "nbformat": 4,
 "nbformat_minor": 5
}
